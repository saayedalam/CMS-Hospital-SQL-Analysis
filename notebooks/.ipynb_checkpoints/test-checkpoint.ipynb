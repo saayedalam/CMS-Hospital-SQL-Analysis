{
 "cells": [
  {
   "cell_type": "markdown",
   "id": "efc32192-86e4-4aa8-8ffd-24fa4e63b5b4",
   "metadata": {},
   "source": [
    "# Table of Contents\n",
    "\n",
    "- [Query 1: Hospital Count by State](#query-1-hospital-count-by-state)\n",
    "- [Query 2: Hospital Count by Type](#query-2-hospital-count-by-type)"
   ]
  },
  {
   "cell_type": "markdown",
   "id": "1dad0994-a519-47ef-a03f-d26a646aab42",
   "metadata": {},
   "source": [
    "### 🧮 Query 1: Hospital Count by State\n",
    "\n",
    "Some content here..."
   ]
  },
  {
   "cell_type": "markdown",
   "id": "71b10c9f-c62d-4221-abb8-e1379f285c1b",
   "metadata": {},
   "source": [
    "### 🧮 Query 2: Hospital Count by Type\n",
    "\n",
    "Some more content here..."
   ]
  },
  {
   "cell_type": "code",
   "execution_count": null,
   "id": "a8a2d972-d369-48e1-afbe-cef5fd564977",
   "metadata": {},
   "outputs": [],
   "source": []
  }
 ],
 "metadata": {
  "kernelspec": {
   "display_name": "Python 3 (ipykernel)",
   "language": "python",
   "name": "python3"
  },
  "language_info": {
   "codemirror_mode": {
    "name": "ipython",
    "version": 3
   },
   "file_extension": ".py",
   "mimetype": "text/x-python",
   "name": "python",
   "nbconvert_exporter": "python",
   "pygments_lexer": "ipython3",
   "version": "3.13.3"
  }
 },
 "nbformat": 4,
 "nbformat_minor": 5
}
