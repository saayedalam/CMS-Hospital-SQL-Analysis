{
 "cells": [
  {
   "cell_type": "markdown",
   "id": "434aba5a-b859-4b4d-aa87-5647b1412431",
   "metadata": {},
   "source": [
    "# 📡 Attempt to Load CMS Hospital Data via API\n",
    "\n",
    "This notebook documents an initial attempt to retrieve the **CMS Hospital General Information** dataset using the official [CMS Data API](https://data.cms.gov/provider-data/dataset/xubh-q36u). While the goal was to automate data access, the API returned only partial records (e.g. limited rows or incomplete fields), making it insufficient for full analysis.\n",
    "\n",
    "---\n",
    "\n",
    "### 🔍 Purpose\n",
    "\n",
    "- Explore CMS API functionality\n",
    "- Attempt to programmatically retrieve hospital data\n",
    "- Evaluate the feasibility of using API vs. manual download\n",
    "\n",
    "---\n",
    "\n",
    "### 🧠 Why Include This?\n",
    "\n",
    "Even though the API route was not used in the final project, this notebook shows:\n",
    "- Technical curiosity and initiative\n",
    "- Documentation of data sourcing decisions\n",
    "- Real-world demonstration of fallback strategy when APIs fall short\n",
    "\n",
    "---\n",
    "\n",
    "📎 **Next Step**: The cleaned dataset used for analysis was sourced from the CMS portal via manual download and processed in the next notebook: `02_data_cleaning.ipynb`"
   ]
  },
  {
   "cell_type": "code",
   "execution_count": 2,
   "id": "501e4137-ae8d-4991-a761-9f24e16691bb",
   "metadata": {},
   "outputs": [
    {
     "name": "stdout",
     "output_type": "stream",
     "text": [
      "✅ Saved 1500 records to cms_hospital_general_info_api_sample.csv\n"
     ]
    }
   ],
   "source": [
    "# Attempt to download CMS hospital data using public API\n",
    "\n",
    "import requests\n",
    "import pandas as pd\n",
    "\n",
    "# API endpoint (limited to 1,500 records)\n",
    "url = \"https://data.cms.gov/provider-data/api/1/datastore/query/xubh-q36u/0\"\n",
    "\n",
    "# Send GET request to CMS API\n",
    "response = requests.get(url)\n",
    "\n",
    "# Validate response status\n",
    "if response.status_code != 200:\n",
    "    print(\"❌ Error fetching data. Status code:\", response.status_code)\n",
    "    print(\"Response text (truncated):\", response.text[:300])\n",
    "else:\n",
    "    try:\n",
    "        # Parse JSON response and extract records\n",
    "        data = response.json()\n",
    "        records = data.get(\"results\", [])\n",
    "\n",
    "        # Convert to DataFrame\n",
    "        df = pd.DataFrame.from_records(records)\n",
    "\n",
    "        # Save sample data to CSV\n",
    "        df.to_csv(\"../data/raw/cms_hospital_general_info_api_sample.csv\", index=False)\n",
    "        print(f\"✅ Saved {len(df)} records to cms_hospital_general_info_api_sample.csv\")\n",
    "\n",
    "    except Exception as e:\n",
    "        print(\"❌ Failed to parse JSON response:\", e)"
   ]
  }
 ],
 "metadata": {
  "kernelspec": {
   "display_name": "Python 3 (ipykernel)",
   "language": "python",
   "name": "python3"
  },
  "language_info": {
   "codemirror_mode": {
    "name": "ipython",
    "version": 3
   },
   "file_extension": ".py",
   "mimetype": "text/x-python",
   "name": "python",
   "nbconvert_exporter": "python",
   "pygments_lexer": "ipython3",
   "version": "3.13.3"
  }
 },
 "nbformat": 4,
 "nbformat_minor": 5
}
